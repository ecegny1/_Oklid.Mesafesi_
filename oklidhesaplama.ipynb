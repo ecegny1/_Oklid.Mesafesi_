{
  "nbformat": 4,
  "nbformat_minor": 0,
  "metadata": {
    "colab": {
      "provenance": [],
      "authorship_tag": "ABX9TyOLSc9h6MSnSELW8/rzel6F",
      "include_colab_link": true
    },
    "kernelspec": {
      "name": "python3",
      "display_name": "Python 3"
    },
    "language_info": {
      "name": "python"
    }
  },
  "cells": [
    {
      "cell_type": "markdown",
      "metadata": {
        "id": "view-in-github",
        "colab_type": "text"
      },
      "source": [
        "<a href=\"https://colab.research.google.com/github/ecegny1/_Oklid.Mesafesi_/blob/main/oklidhesaplama.ipynb\" target=\"_parent\"><img src=\"https://colab.research.google.com/assets/colab-badge.svg\" alt=\"Open In Colab\"/></a>"
      ]
    },
    {
      "cell_type": "code",
      "execution_count": 1,
      "metadata": {
        "colab": {
          "base_uri": "https://localhost:8080/"
        },
        "id": "A_XJCZRwbBm6",
        "outputId": "017723eb-e5f8-4a64-ebac-7ce477b40e7c"
      },
      "outputs": [
        {
          "output_type": "stream",
          "name": "stdout",
          "text": [
            "Mesafeler: [2.8284271247461903, 5.656854249492381, 8.48528137423857, 2.8284271247461903, 5.656854249492381, 2.8284271247461903]\n",
            "Minimum mesafe: 2.8284271247461903\n"
          ]
        }
      ],
      "source": [
        "import math\n",
        "\n",
        "# Noktaların tanımlanması\n",
        "points = [(1, 2), (3, 4), (5, 6), (7, 8)]\n",
        "\n",
        "# Öklid mesafesi için fonksiyon\n",
        "def euclideanDistance(point1, point2):\n",
        "    return math.sqrt((point1[0] - point2[0]) ** 2 + (point1[1] - point2[1]) ** 2)\n",
        "\n",
        "# Mesafelerin hesaplanması\n",
        "distances = []\n",
        "for i in range(len(points)):\n",
        "    for j in range(i + 1, len(points)):\n",
        "        dist = euclideanDistance(points[i], points[j])\n",
        "        distances.append(dist)\n",
        "\n",
        "# Minimum mesafenin bulunması\n",
        "min_distance = min(distances)\n",
        "\n",
        "# Sonuçların yazdırılması\n",
        "print(\"Mesafeler:\", distances)\n",
        "print(\"Minimum mesafe:\", min_distance)"
      ]
    }
  ]
}
